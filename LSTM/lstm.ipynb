{
  "cells": [
    {
      "cell_type": "code",
      "execution_count": 22,
      "metadata": {
        "id": "_bJPYZTeXR2-"
      },
      "outputs": [],
      "source": [
        "#imports\n",
        "\n",
        "import os\n",
        "import re\n",
        "import numpy as np\n",
        "import matplotlib.pyplot as plt\n",
        "from collections import Counter\n",
        "from keras.preprocessing.text import Tokenizer\n",
        "from keras.preprocessing.sequence import pad_sequences\n",
        "from keras.models import Sequential\n",
        "from keras.layers import Embedding, Conv1D, MaxPooling1D, Flatten, Dense, Dropout, LSTM\n",
        "from keras.optimizers import Adam"
      ]
    },
    {
      "cell_type": "markdown",
      "metadata": {
        "id": "V2wH6ZcUdOky"
      },
      "source": [
        "b)"
      ]
    },
    {
      "cell_type": "code",
      "execution_count": 23,
      "metadata": {
        "id": "b04FjJhdWctv"
      },
      "outputs": [],
      "source": [
        "#function to remove punctuation and numbers from text\n",
        "def cleantext(text):\n",
        "    text = re.sub(r'[^\\w\\s]', '', text)  #remove punctuation\n",
        "    text = re.sub(r'\\d+', '', text)       #remove nums\n",
        "    return text\n",
        "\n",
        "#function that reads all files in a folder and returns the texts\n",
        "def read_files(folder_path):\n",
        "    file_texts = []\n",
        "    for file_name in os.listdir(folder_path):   #loop through all files\n",
        "        file_path = os.path.join(folder_path, file_name)\n",
        "        with open(file_path, 'r', encoding='utf-8') as file: #open file\n",
        "            text = file.read()      #read file\n",
        "            text = cleantext(text)     #cleaning\n",
        "            file_texts.append(text) #append text\n",
        "    return file_texts"
      ]
    },
    {
      "cell_type": "code",
      "execution_count": 24,
      "metadata": {
        "id": "AVbQPwszX_tl",
        "colab": {
          "base_uri": "https://localhost:8080/"
        },
        "outputId": "9423c249-73f6-4674-a219-41888b56f4ec"
      },
      "outputs": [
        {
          "output_type": "stream",
          "name": "stdout",
          "text": [
            "Drive already mounted at /content/drive; to attempt to forcibly remount, call drive.mount(\"/content/drive\", force_remount=True).\n"
          ]
        }
      ],
      "source": [
        "from google.colab import drive\n",
        "drive.mount('/content/drive')\n"
      ]
    },
    {
      "cell_type": "code",
      "execution_count": 25,
      "metadata": {
        "id": "ljNcUOroRIUt"
      },
      "outputs": [],
      "source": [
        "posFilePath = '/content/drive/My Drive/pos/'\n",
        "negFilePath = '/content/drive/My Drive/neg/'\n",
        "\n",
        "#call function to read files\n",
        "pos = read_files(posFilePath)\n",
        "neg = read_files(negFilePath)\n"
      ]
    },
    {
      "cell_type": "code",
      "execution_count": 26,
      "metadata": {
        "id": "fyOxXkotXOiN"
      },
      "outputs": [],
      "source": [
        "#set train and test\n",
        "train_pos = pos[:700]\n",
        "test_pos = pos[700:1000]\n",
        "train_neg = neg[:700]\n",
        "test_neg = neg[700:1000]"
      ]
    },
    {
      "cell_type": "code",
      "execution_count": 27,
      "metadata": {
        "id": "Du1NN5EHaCI0",
        "colab": {
          "base_uri": "https://localhost:8080/"
        },
        "outputId": "a9077975-a849-4317-bd0c-32d7c21f485f"
      },
      "outputs": [
        {
          "output_type": "stream",
          "name": "stdout",
          "text": [
            "Num unique words: 47037\n"
          ]
        }
      ],
      "source": [
        "#count the number of unique words in the whole dataset (train + test)\n",
        "total_text = train_pos + test_pos + train_neg + test_neg\n",
        "\n",
        "#count num unique words\n",
        "total_texts = ' '.join(total_text)\n",
        "words = len(set(total_texts.split()))\n",
        "print(\"Num unique words:\",words)"
      ]
    },
    {
      "cell_type": "code",
      "execution_count": 28,
      "metadata": {
        "id": "zYqOcKwDaKH8",
        "colab": {
          "base_uri": "https://localhost:8080/"
        },
        "outputId": "7d2f0f6a-6e3f-4b0e-d03a-6d800b5f775c"
      },
      "outputs": [
        {
          "output_type": "stream",
          "name": "stdout",
          "text": [
            "Average length: 644.3575\n",
            "Standard deviation of length: 284.98012333099655\n"
          ]
        }
      ],
      "source": [
        "#average lengths and standard deviation\n",
        "\n",
        "review_len = [len(text.split()) for text in total_text]\n",
        "avg = np.mean(review_len)       #avg\n",
        "sd = np.std(review_len)         #standard deviation\n",
        "print(\"Average length:\", avg)\n",
        "print(\"Standard deviation of length:\", sd)"
      ]
    },
    {
      "cell_type": "code",
      "execution_count": 29,
      "metadata": {
        "id": "D0vnJxNCdyGD",
        "colab": {
          "base_uri": "https://localhost:8080/",
          "height": 472
        },
        "outputId": "2c2be096-5999-4579-e426-5a9bcaaaf1d9"
      },
      "outputs": [
        {
          "output_type": "display_data",
          "data": {
            "text/plain": [
              "<Figure size 640x480 with 1 Axes>"
            ],
            "image/png": "[encoded data removed]"
          },
          "metadata": {}
        }
      ],
      "source": [
        "#histogram of lengths\n",
        "plt.hist(review_len, bins=60)\n",
        "plt.xlabel('Review Length')\n",
        "plt.ylabel('Frequency')\n",
        "plt.title('Histogram of Review Lengths')\n",
        "plt.show()"
      ]
    },
    {
      "cell_type": "code",
      "execution_count": 30,
      "metadata": {
        "id": "PWUUzqUzeW1V"
      },
      "outputs": [],
      "source": [
        "#tokenize using keras\n",
        "L = int(np.percentile(review_len, 70))\n",
        "\n",
        "#initialize tokenizer\n",
        "tokenizer = Tokenizer(num_words = L)\n",
        "\n",
        "#create train data\n",
        "train_data = train_pos + train_neg\n",
        "\n",
        "#fit tokenizer\n",
        "tokenizer.fit_on_texts(train_data)\n",
        "\n",
        "#tokenize each doc\n",
        "tokenized_docs = tokenizer.texts_to_sequences(train_data)"
      ]
    },
    {
      "cell_type": "code",
      "execution_count": 31,
      "metadata": {
        "id": "tDy4PRHCf26O"
      },
      "outputs": [],
      "source": [
        "#padded texts\n",
        "padded_texts = pad_sequences(tokenized_docs, maxlen=L, padding='post', truncating='post')\n",
        "padded_texts_ = np.array(padded_texts)"
      ]
    },
    {
      "cell_type": "code",
      "source": [
        "#create test data\n",
        "test_data = test_pos + test_neg\n",
        "\n",
        "#fit tokenizer\n",
        "tokenizer.fit_on_texts(test_data)\n",
        "\n",
        "#tokenize each doc\n",
        "tokenized_docs = tokenizer.texts_to_sequences(test_data)\n",
        "\n",
        "#padded test text\n",
        "padded_texts_test = pad_sequences(tokenized_docs, maxlen=L, padding='post', truncating='post')\n",
        "padded_texts_test_ = np.array(padded_texts_test)"
      ],
      "metadata": {
        "id": "d3GXO76k-K6R"
      },
      "execution_count": 32,
      "outputs": []
    },
    {
      "cell_type": "markdown",
      "metadata": {
        "id": "2pLgGacIjj1H"
      },
      "source": [
        "c)"
      ]
    },
    {
      "cell_type": "code",
      "execution_count": 33,
      "metadata": {
        "id": "2-_wWbH4g9Z1"
      },
      "outputs": [],
      "source": [
        "#source: https://keras.io/api/models/model/\n",
        "#source: https://keras.io/api/layers/core_layers/embedding/\n",
        "\n",
        "#initialize model\n",
        "model = Sequential()\n",
        "\n",
        "#add embedding layer\n",
        "model.add(Embedding(input_dim=5000, output_dim=32, input_length=L))\n",
        "\n",
        "#flatter output\n",
        "model.add(Flatten())"
      ]
    },
    {
      "cell_type": "markdown",
      "metadata": {
        "id": "nKGuN1hIjxI8"
      },
      "source": [
        "d)\n"
      ]
    },
    {
      "cell_type": "code",
      "execution_count": 34,
      "metadata": {
        "id": "Yb-bmimlj0h2",
        "colab": {
          "base_uri": "https://localhost:8080/"
        },
        "outputId": "91bbb10f-d167-4bd8-f3d6-f4972b003d3e"
      },
      "outputs": [
        {
          "output_type": "stream",
          "name": "stdout",
          "text": [
            "Epoch 1/2\n",
            "140/140 [==============================] - 4s 19ms/step - loss: 0.6975 - accuracy: 0.5321\n",
            "Epoch 2/2\n",
            "140/140 [==============================] - 2s 17ms/step - loss: 0.6889 - accuracy: 0.5157\n"
          ]
        }
      ],
      "source": [
        "#first layer\n",
        "model.add(Dense(50, activation='relu'))\n",
        "model.add(Dropout(0.2))\n",
        "\n",
        "#second layer\n",
        "model.add(Dense(50, activation='relu'))\n",
        "model.add(Dropout(0.5))\n",
        "\n",
        "#third layer\n",
        "model.add(Dense(50, activation='relu'))\n",
        "model.add(Dropout(0.5))\n",
        "\n",
        "#output layer\n",
        "model.add(Dense(1, activation='sigmoid'))\n",
        "\n",
        "#compile\n",
        "model.compile(optimizer='adam', loss='binary_crossentropy', metrics=['accuracy'])\n",
        "\n",
        "#set y train/test\n",
        "y_train = np.concatenate((np.ones(len(train_pos)), np.zeros(len(train_neg))))\n",
        "y_train_ = np.array(y_train)\n",
        "y_test = np.concatenate((np.ones(len(test_pos)), np.zeros(len(test_neg))))\n",
        "y_test_ = np.array(y_test)\n",
        "\n",
        "#fit model\n",
        "m = model.fit(padded_texts_, y_train_, epochs=2, batch_size=10)"
      ]
    },
    {
      "cell_type": "code",
      "execution_count": 35,
      "metadata": {
        "id": "DVZBDk6n4PMj",
        "colab": {
          "base_uri": "https://localhost:8080/"
        },
        "outputId": "4a5744c8-ff95-4372-a32b-8afa2fc93de9"
      },
      "outputs": [
        {
          "output_type": "stream",
          "name": "stdout",
          "text": [
            "19/19 [==============================] - 0s 5ms/step - loss: 0.6865 - accuracy: 0.5300\n",
            "Train Accuracy: 0.5157142877578735\n",
            "Test Accuracy: 0.5299999713897705\n"
          ]
        }
      ],
      "source": [
        "#source: https://stackoverflow.com/questions/51047676/how-to-get-accuracy-of-model-using-keras\n",
        "\n",
        "#print accuracies\n",
        "loss, test_accuracy = model.evaluate(padded_texts_test_, y_test_)\n",
        "train_accuracy = m.history['accuracy']\n",
        "print(\"Train Accuracy:\", train_accuracy[-1])\n",
        "print(\"Test Accuracy:\", test_accuracy)"
      ]
    },
    {
      "cell_type": "markdown",
      "source": [
        "e)"
      ],
      "metadata": {
        "id": "lYIVHUZbo_j1"
      }
    },
    {
      "cell_type": "code",
      "source": [
        "#source: https://keras.io/api/layers/convolution_layers/convolution1d/\n",
        "#source: https://keras.io/api/layers/pooling_layers/max_pooling1d/\n",
        "\n",
        "#initialize\n",
        "model2 = Sequential()\n",
        "\n",
        "#embedding layer\n",
        "model2.add(Embedding(input_dim=5000, output_dim=32, input_length=L))\n",
        "\n",
        "#convulution layer\n",
        "model2.add(Conv1D(filters=32, kernel_size=3, activation='relu'))\n",
        "\n",
        "#MaxPooling1D layer\n",
        "model2.add(MaxPooling1D(pool_size=2, strides=2))\n",
        "\n",
        "#flatten output\n",
        "model2.add(Flatten())\n",
        "\n",
        "#add same layers as before\n",
        "model2.add(Dense(50, activation='relu'))\n",
        "model2.add(Dropout(0.2))\n",
        "model2.add(Dense(1, activation='sigmoid'))\n",
        "\n",
        "#compile\n",
        "model2.compile(optimizer='adam', loss='binary_crossentropy', metrics=['accuracy'])\n",
        "\n",
        "#fit model\n",
        "m2 = model2.fit(padded_texts_, y_train_, epochs=2, batch_size=10)"
      ],
      "metadata": {
        "id": "MkfEQofopAhD",
        "colab": {
          "base_uri": "https://localhost:8080/"
        },
        "outputId": "cfae7a36-5926-4971-cdbc-ca4518f4350b"
      },
      "execution_count": 36,
      "outputs": [
        {
          "output_type": "stream",
          "name": "stdout",
          "text": [
            "Epoch 1/2\n",
            "140/140 [==============================] - 3s 17ms/step - loss: 0.6929 - accuracy: 0.5243\n",
            "Epoch 2/2\n",
            "140/140 [==============================] - 4s 30ms/step - loss: 0.5855 - accuracy: 0.7029\n"
          ]
        }
      ]
    },
    {
      "cell_type": "code",
      "source": [
        "#train/test accuracy\n",
        "loss, test_accuracy = model2.evaluate(padded_texts_test_, y_test_)\n",
        "train_accuracy = m2.history['accuracy']\n",
        "print(\"Train Accuracy:\", train_accuracy[-1])\n",
        "print(\"Test Accuracy:\", test_accuracy)"
      ],
      "metadata": {
        "id": "FtItzVKa8Qq2",
        "colab": {
          "base_uri": "https://localhost:8080/"
        },
        "outputId": "fa278dba-46c6-4d24-bfd7-6e923004fbcf"
      },
      "execution_count": 37,
      "outputs": [
        {
          "output_type": "stream",
          "name": "stdout",
          "text": [
            "19/19 [==============================] - 0s 9ms/step - loss: 0.6421 - accuracy: 0.6367\n",
            "Train Accuracy: 0.7028571367263794\n",
            "Test Accuracy: 0.6366666555404663\n"
          ]
        }
      ]
    },
    {
      "cell_type": "markdown",
      "source": [
        "f)"
      ],
      "metadata": {
        "id": "SVEU2GNC64nD"
      }
    },
    {
      "cell_type": "code",
      "source": [
        "#source: https://keras.io/api/layers/recurrent_layers/lstm/\n",
        "\n",
        "#initialize\n",
        "model3 = Sequential()\n",
        "\n",
        "#embedding layer\n",
        "model3.add(Embedding(input_dim=5000, output_dim=32, input_length=L))\n",
        "\n",
        "#LSTM layer\n",
        "model3.add(LSTM(32, dropout=0.2))\n",
        "\n",
        "#first layer\n",
        "model.add(Dense(256, activation='relu'))\n",
        "model.add(Dropout(0.2))\n",
        "\n",
        "#output layer\n",
        "model.add(Dense(1, activation='sigmoid'))\n",
        "\n",
        "#compile model\n",
        "model3.compile(optimizer='adam', loss='binary_crossentropy', metrics=['accuracy'])\n",
        "\n",
        "#fit model\n",
        "m3 = model3.fit(padded_texts_, y_train_, epochs=10, batch_size=10)"
      ],
      "metadata": {
        "colab": {
          "base_uri": "https://localhost:8080/"
        },
        "id": "_Ahib3ak62NB",
        "outputId": "2068f25c-328b-4ae1-a2a7-7b1a990571d8"
      },
      "execution_count": 38,
      "outputs": [
        {
          "output_type": "stream",
          "name": "stdout",
          "text": [
            "Epoch 1/10\n",
            "140/140 [==============================] - 29s 192ms/step - loss: 3.6515 - accuracy: 0.0157\n",
            "Epoch 2/10\n",
            "140/140 [==============================] - 27s 195ms/step - loss: 3.5466 - accuracy: 0.0979\n",
            "Epoch 3/10\n",
            "140/140 [==============================] - 28s 198ms/step - loss: 3.5455 - accuracy: 0.1379\n",
            "Epoch 4/10\n",
            "140/140 [==============================] - 26s 187ms/step - loss: 3.5451 - accuracy: 0.1036\n",
            "Epoch 5/10\n",
            "140/140 [==============================] - 25s 181ms/step - loss: 3.0437 - accuracy: 0.0536\n",
            "Epoch 6/10\n",
            "140/140 [==============================] - 27s 191ms/step - loss: 2.8859 - accuracy: 0.1386\n",
            "Epoch 7/10\n",
            "140/140 [==============================] - 27s 190ms/step - loss: 2.8841 - accuracy: 0.1450\n",
            "Epoch 8/10\n",
            "140/140 [==============================] - 27s 190ms/step - loss: 2.8829 - accuracy: 0.1664\n",
            "Epoch 9/10\n",
            "140/140 [==============================] - 26s 188ms/step - loss: 2.8804 - accuracy: 0.1707\n",
            "Epoch 10/10\n",
            "140/140 [==============================] - 26s 189ms/step - loss: 2.8794 - accuracy: 0.1286\n"
          ]
        }
      ]
    },
    {
      "cell_type": "code",
      "source": [
        "#train/test accuracy\n",
        "loss, test_accuracy = model3.evaluate(padded_texts_test_, y_test_)\n",
        "train_accuracy = m3.history['accuracy']\n",
        "print(\"Train Accuracy:\", train_accuracy[-1])\n",
        "print(\"Test Accuracy:\", test_accuracy)"
      ],
      "metadata": {
        "id": "ozPZapMS8nmC",
        "colab": {
          "base_uri": "https://localhost:8080/"
        },
        "outputId": "080ad95c-74f0-401a-9d88-5dc54fa6348c"
      },
      "execution_count": 39,
      "outputs": [
        {
          "output_type": "stream",
          "name": "stdout",
          "text": [
            "19/19 [==============================] - 2s 91ms/step - loss: 2.8868 - accuracy: 0.4867\n",
            "Train Accuracy: 0.12857143580913544\n",
            "Test Accuracy: 0.4866666793823242\n"
          ]
        }
      ]
    }
  ],
  "metadata": {
    "colab": {
      "provenance": []
    },
    "kernelspec": {
      "display_name": "Python 3",
      "name": "python3"
    },
    "language_info": {
      "name": "python"
    }
  },
  "nbformat": 4,
  "nbformat_minor": 0
}